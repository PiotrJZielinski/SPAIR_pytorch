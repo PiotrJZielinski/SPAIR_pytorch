{
 "cells": [
  {
   "cell_type": "code",
   "execution_count": 4,
   "metadata": {
    "collapsed": true,
    "pycharm": {
     "is_executing": false
    }
   },
   "outputs": [],
   "source": [
    "import torch\n",
    "from torchviz import make_dot\n",
    "from tensorboardX import SummaryWriter\n",
    "from spair.models import SPAIR\n",
    "from datetime import datetime"
   ]
  },
  {
   "cell_type": "code",
   "execution_count": null,
   "outputs": [
    {
     "name": "stdout",
     "text": [
      "model initialized\nmaking dot\n",
      "stn transform tensor([[[ 0.3750,  0.0000, -1.0000],\n         [ 0.0000,  0.3750, -1.0000],\n         [ 0.0000,  0.0000,  1.0000]],\n\n        [[ 0.3750,  0.0000, -0.8125],\n         [ 0.0000,  0.3750, -1.0000],\n         [ 0.0000,  0.0000,  1.0000]],\n\n        [[ 0.3750,  0.0000, -0.6250],\n         [ 0.0000,  0.3750, -1.0000],\n         [ 0.0000,  0.0000,  1.0000]],\n\n        ...,\n\n        [[ 0.3750,  0.0000,  0.5000],\n         [ 0.0000,  0.3750,  0.8750],\n         [ 0.0000,  0.0000,  1.0000]],\n\n        [[ 0.3750,  0.0000,  0.6875],\n         [ 0.0000,  0.3750,  0.8750],\n         [ 0.0000,  0.0000,  1.0000]],\n\n        [[ 0.3750,  0.0000,  0.8750],\n         [ 0.0000,  0.3750,  0.8750],\n         [ 0.0000,  0.0000,  1.0000]]])\ntransformation contains nan? tensor(0)\ntransformation shape torch.Size([3872, 3, 3])\n",
      "============ Losses =============\nReconstruction loss: 0.6942\nKL_cy_logit_loss: 0.3043\nKL_cx_logit_loss: 0.7089\nKL_height_logit_loss: 429.2154\nKL_width_logit_loss: 378.4413\nKL_attr_loss: 22.0738\nKL_depth_logit_loss: 0.3992\nKL_pres_dist_loss: 467.4121\n\n ===> total loss: 1299.2491\n"
     ],
     "output_type": "stream"
    }
   ],
   "source": [
    "\n",
    "img = torch.rand((32,1,128,128))\n",
    "device = torch.device(\"cpu\")\n",
    "dt = datetime.today().strftime('%b-%d')\n",
    "writer = SummaryWriter('logs_v2/%s' % dt)\n",
    "\n",
    "spair = SPAIR((1, 128,128),writer,device,)\n",
    "\n",
    "spair_params = dict(spair.named_parameters())\n",
    "decoder_in_weights = spair_params['object_decoder.dense0.weight']\n",
    "encoder_out_param = spair_params['object_encoder.out.weight']\n",
    "print('making dot')\n",
    "make_dot(spair(img))\n",
    "\n",
    "\n",
    "# make_dot(spair(img), params=dict(spair.named_parameters()))\n",
    "\n"
   ],
   "metadata": {
    "collapsed": false,
    "pycharm": {
     "name": "#%%\n",
     "is_executing": true
    }
   }
  }
 ],
 "metadata": {
  "language_info": {
   "codemirror_mode": {
    "name": "ipython",
    "version": 2
   },
   "file_extension": ".py",
   "mimetype": "text/x-python",
   "name": "python",
   "nbconvert_exporter": "python",
   "pygments_lexer": "ipython2",
   "version": "2.7.6"
  },
  "kernelspec": {
   "name": "python3",
   "language": "python",
   "display_name": "Python 3"
  },
  "pycharm": {
   "stem_cell": {
    "cell_type": "raw",
    "source": [],
    "metadata": {
     "collapsed": false
    }
   }
  }
 },
 "nbformat": 4,
 "nbformat_minor": 0
}